{
 "cells": [
  {
   "cell_type": "code",
   "execution_count": 6,
   "metadata": {
    "scrolled": false
   },
   "outputs": [
    {
     "name": "stdout",
     "output_type": "stream",
     "text": [
      "Player 1: What do you choose X/O? O\n",
      "Player 1: O\n",
      "Player 2: X\n",
      "Player 1Enter the place where you want to input: 5\n",
      "  |   |  \n",
      "----------\n",
      "  | O |  \n",
      "----------\n",
      "  |   |  \n",
      "Player 2Enter the place where you want to input: 2\n",
      "  | X |  \n",
      "----------\n",
      "  | O |  \n",
      "----------\n",
      "  |   |  \n",
      "Player 1Enter the place where you want to input: 3\n",
      "  | X | O\n",
      "----------\n",
      "  | O |  \n",
      "----------\n",
      "  |   |  \n",
      "Player 2Enter the place where you want to input: 6\n",
      "  | X | O\n",
      "----------\n",
      "  | O | X\n",
      "----------\n",
      "  |   |  \n",
      "Player 1Enter the place where you want to input: 7\n",
      "  | X | O\n",
      "----------\n",
      "  | O | X\n",
      "----------\n",
      "O |   |  \n",
      "Winner is O\n",
      "Do you want to continue to play? yes or no?no\n",
      "THANK YOU FOR PLAYING!!\n"
     ]
    }
   ],
   "source": [
    "board = [' ', ' ', ' ', ' ', ' ', ' ', ' ', ' ', ' ']\n",
    "choice = 'yes'\n",
    "\n",
    "def print_board(board):\n",
    "    print('{} | {} | {}'.format(board[0], board[1], board[2]))\n",
    "    print('----------')\n",
    "#     print('\\n')\n",
    "    print('{} | {} | {}'.format(board[3], board[4], board[5]))\n",
    "    print('----------')\n",
    "#     print('\\n')\n",
    "    print('{} | {} | {}'.format(board[6], board[7], board[8]))\n",
    "    \n",
    "\n",
    "def check_win(board):\n",
    "    if((board[0]==board[1] and board[1]==board[2] and board[0]!=' ') or (board[3]==board[4] and board[4]==board[5] and board[3]!=' ') or (board[6]==board[7] and board[7]==board[8] and board[8]!=' ')):\n",
    "        return True\n",
    "    elif((board[0]==board[3] and board[3]==board[6] and board[0]!=' ') or (board[1]==board[4] and board[4]==board[7] and board[1]!=' ') or (board[2]==board[5] and board[5]==board[8] and board[2]!=' ')):\n",
    "        return True\n",
    "    elif((board[0]==board[4] and board[4]==board[8] and board[0]!=' ') or (board[2]==board[4] and board[4]==board[6] and board[2]!=' ')):\n",
    "        return True\n",
    "    return False\n",
    "\n",
    "\n",
    "while choice == 'yes':\n",
    "    \n",
    "    player1 = input('Player 1: What do you choose X/O? ')\n",
    "    \n",
    "    player2 = 'O' if player1 == 'X' else 'X'\n",
    "    \n",
    "    print('Player 1: ' + player1 + '\\nPlayer 2: ' + player2)\n",
    "    \n",
    "    for i in range(9):\n",
    "    \n",
    "        place = int(input('{}Enter the place where you want to input: '.format('Player 1' if i in range(0, 9, 2) else 'Player 2')))\n",
    "        board[place - 1] = player1 if i in range(0, 9, 2) else player2\n",
    "        print_board(board)\n",
    "        if check_win(board):\n",
    "            if i in range(0, 9, 2):\n",
    "                print('Winner is ' + player1)\n",
    "                break;\n",
    "            else:\n",
    "                print('Winner is ' + player2)\n",
    "                break;\n",
    "            \n",
    "    choice = input('Do you want to continue to play? yes or no?')\n",
    "    \n",
    "print('THANK YOU FOR PLAYING!!')"
   ]
  }
 ],
 "metadata": {
  "kernelspec": {
   "display_name": "Python 3",
   "language": "python",
   "name": "python3"
  },
  "language_info": {
   "codemirror_mode": {
    "name": "ipython",
    "version": 3
   },
   "file_extension": ".py",
   "mimetype": "text/x-python",
   "name": "python",
   "nbconvert_exporter": "python",
   "pygments_lexer": "ipython3",
   "version": "3.7.4"
  }
 },
 "nbformat": 4,
 "nbformat_minor": 2
}
